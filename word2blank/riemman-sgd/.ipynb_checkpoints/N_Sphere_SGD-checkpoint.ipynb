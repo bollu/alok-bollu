{
 "cells": [
  {
   "cell_type": "code",
   "execution_count": 16,
   "metadata": {},
   "outputs": [
    {
     "ename": "ValueError",
     "evalue": "The truth value of an array with more than one element is ambiguous. Use a.any() or a.all()",
     "output_type": "error",
     "traceback": [
      "\u001b[0;31m---------------------------------------------------------------------------\u001b[0m",
      "\u001b[0;31mValueError\u001b[0m                                Traceback (most recent call last)",
      "\u001b[0;32m<ipython-input-16-0e0384d709b7>\u001b[0m in \u001b[0;36m<module>\u001b[0;34m\u001b[0m\n\u001b[1;32m     49\u001b[0m     \u001b[0meta_k\u001b[0m \u001b[0;34m=\u001b[0m \u001b[0;34m-\u001b[0m\u001b[0;36m1\u001b[0m\u001b[0;34m*\u001b[0m\u001b[0mgradient\u001b[0m\u001b[0;34m(\u001b[0m\u001b[0mx_cur\u001b[0m\u001b[0;34m)\u001b[0m\u001b[0;31m#eta_k is chosen as -grad f(x_k) which is gradient-related\u001b[0m\u001b[0;34m\u001b[0m\u001b[0;34m\u001b[0m\u001b[0m\n\u001b[1;32m     50\u001b[0m \u001b[0;34m\u001b[0m\u001b[0m\n\u001b[0;32m---> 51\u001b[0;31m     \u001b[0mt_k\u001b[0m \u001b[0;34m=\u001b[0m \u001b[0marmijo_step\u001b[0m\u001b[0;34m(\u001b[0m\u001b[0mx_cur\u001b[0m\u001b[0;34m,\u001b[0m \u001b[0meta_k\u001b[0m\u001b[0;34m)\u001b[0m\u001b[0;34m\u001b[0m\u001b[0;34m\u001b[0m\u001b[0m\n\u001b[0m\u001b[1;32m     52\u001b[0m \u001b[0;34m\u001b[0m\u001b[0m\n\u001b[1;32m     53\u001b[0m     \u001b[0mx_cur\u001b[0m \u001b[0;34m=\u001b[0m \u001b[0mretraction\u001b[0m\u001b[0;34m(\u001b[0m\u001b[0mx_cur\u001b[0m\u001b[0;34m,\u001b[0m \u001b[0mt_k\u001b[0m\u001b[0;34m*\u001b[0m\u001b[0meta_k\u001b[0m\u001b[0;34m)\u001b[0m\u001b[0;34m\u001b[0m\u001b[0;34m\u001b[0m\u001b[0m\n",
      "\u001b[0;32m<ipython-input-16-0e0384d709b7>\u001b[0m in \u001b[0;36marmijo_step\u001b[0;34m(x_cur, eta_k)\u001b[0m\n\u001b[1;32m     37\u001b[0m     \u001b[0;32mwhile\u001b[0m \u001b[0;32mTrue\u001b[0m\u001b[0;34m:\u001b[0m\u001b[0;34m\u001b[0m\u001b[0;34m\u001b[0m\u001b[0m\n\u001b[1;32m     38\u001b[0m         \u001b[0mexpr\u001b[0m \u001b[0;34m=\u001b[0m \u001b[0mnp\u001b[0m\u001b[0;34m.\u001b[0m\u001b[0mdot\u001b[0m\u001b[0;34m(\u001b[0m\u001b[0meta_k\u001b[0m\u001b[0;34m,\u001b[0m \u001b[0meta_k\u001b[0m\u001b[0;34m)\u001b[0m\u001b[0;34m\u001b[0m\u001b[0;34m\u001b[0m\u001b[0m\n\u001b[0;32m---> 39\u001b[0;31m         \u001b[0;32mif\u001b[0m \u001b[0mfield\u001b[0m\u001b[0;34m(\u001b[0m\u001b[0mretraction\u001b[0m\u001b[0;34m(\u001b[0m\u001b[0mx_cur\u001b[0m\u001b[0;34m,\u001b[0m \u001b[0malpha\u001b[0m\u001b[0;34m*\u001b[0m\u001b[0;34m(\u001b[0m\u001b[0mbeta\u001b[0m\u001b[0;34m**\u001b[0m\u001b[0mm\u001b[0m\u001b[0;34m)\u001b[0m\u001b[0;34m*\u001b[0m\u001b[0meta_k\u001b[0m\u001b[0;34m)\u001b[0m\u001b[0;34m)\u001b[0m \u001b[0;34m<=\u001b[0m \u001b[0;34m(\u001b[0m\u001b[0mfield\u001b[0m\u001b[0;34m(\u001b[0m\u001b[0mx_cur\u001b[0m\u001b[0;34m)\u001b[0m \u001b[0;34m-\u001b[0m \u001b[0;34m(\u001b[0m\u001b[0msigma\u001b[0m\u001b[0;34m*\u001b[0m\u001b[0malpha\u001b[0m\u001b[0;34m*\u001b[0m\u001b[0;34m(\u001b[0m\u001b[0mbeta\u001b[0m\u001b[0;34m**\u001b[0m\u001b[0mm\u001b[0m\u001b[0;34m)\u001b[0m\u001b[0;34m*\u001b[0m\u001b[0mexpr\u001b[0m\u001b[0;34m)\u001b[0m\u001b[0;34m)\u001b[0m\u001b[0;34m:\u001b[0m\u001b[0;34m\u001b[0m\u001b[0;34m\u001b[0m\u001b[0m\n\u001b[0m\u001b[1;32m     40\u001b[0m             \u001b[0;32mbreak\u001b[0m\u001b[0;34m\u001b[0m\u001b[0;34m\u001b[0m\u001b[0m\n\u001b[1;32m     41\u001b[0m         \u001b[0mm\u001b[0m \u001b[0;34m+=\u001b[0m \u001b[0;36m1\u001b[0m\u001b[0;34m\u001b[0m\u001b[0;34m\u001b[0m\u001b[0m\n",
      "\u001b[0;31mValueError\u001b[0m: The truth value of an array with more than one element is ambiguous. Use a.any() or a.all()"
     ]
    }
   ],
   "source": [
    "import numpy as np\n",
    "\n",
    "#A random initial value to start the iteration in the Manifold space S^n-1 which would be of the form R^n\n",
    "x_cur = np.array((1, 0, 0, 0)) #n is chosen to be 4, so its a 3-sphere of unit radius embedded in R^4 Euclidean space\n",
    "\n",
    "#Our cost function requires a symmetric nxn matrix A. One such A is initialised(random infact). \n",
    "A = np.array([[1, 2, 3, 0],[2, 1, 4, 0],[3, 4, 3, 0],[0, 0, 0, 0]])\n",
    "\n",
    "#To keep track of the iterations\n",
    "iterate = 0\n",
    "\n",
    "'''Our step size calculation would be based on a concept called Armijo point. \n",
    "Armijo point requires the selection of scalars α > 0, β, σ ∈ (0, 1). These have also been randomly intialised for now. \n",
    "They will be tweaked later for better convergence.'''\n",
    "alpha,beta,sigma = [3, 0.2, 0.05] \n",
    "\n",
    "#This is essentially Rayleigh quotient minimization , x->x.TAx where A=symmetric 4x4 matrix\n",
    "field = lambda x: np.matmul(np.transpose(x),np.matmul(A,x))\n",
    "\n",
    "'''The retraction which is a function that maps the manifold to itself. \n",
    "The retraction we have used takes two vectors x,y as arguements and returns (x+y)/abs(x+y) \n",
    "i.e direction of the vector x+y ''' \n",
    "def retraction(x_cur, tau):\n",
    "    z = x_cur + tau\n",
    "    absval = np.linalg.norm(z, 1)\n",
    "    return np.divide(z, absval)\n",
    "\n",
    "#Gradient is calculated as 2*(Ax_k − x_k x_k.T A x_k) .\n",
    "def gradient(x_cur):\n",
    "    expression = A*x_cur - x_cur*field(x_cur)\n",
    "    return 2*expression\n",
    "\n",
    "'''Find the smallest integer m ≥ 0 such that\n",
    "f (Rx_k (aplha.beta^m eta_k )) ≤ f(x_k ) − sigma.alpha.beta^m eta_k.T eta_k'''\n",
    "def armijo_step(x_cur, eta_k):\n",
    "    m = 0\n",
    "    while True:\n",
    "        expr = np.dot(eta_k, eta_k)\n",
    "        if field(retraction(x_cur, alpha*(beta**m)*eta_k)) <= (field(x_cur) - (sigma*alpha*(beta**m)*expr)):\n",
    "            break\n",
    "        m += 1\n",
    "        \n",
    "    return alpha*(beta**m)\n",
    "\n",
    "#The updation happens in this loop for 10000 iterations\n",
    "while True:\n",
    "    if iterate==10000:\n",
    "        break\n",
    "    eta_k = -1*gradient(x_cur)#eta_k is chosen as -grad f(x_k) which is gradient-related\n",
    "    \n",
    "    t_k = armijo_step(x_cur, eta_k)\n",
    "    \n",
    "    x_cur = retraction(x_cur, t_k*eta_k)\n",
    "    iterate += 1\n",
    "\n",
    "print(x_cur)"
   ]
  },
  {
   "cell_type": "code",
   "execution_count": null,
   "metadata": {},
   "outputs": [],
   "source": []
  }
 ],
 "metadata": {
  "kernelspec": {
   "display_name": "Python 3",
   "language": "python",
   "name": "python3"
  },
  "language_info": {
   "codemirror_mode": {
    "name": "ipython",
    "version": 3
   },
   "file_extension": ".py",
   "mimetype": "text/x-python",
   "name": "python",
   "nbconvert_exporter": "python",
   "pygments_lexer": "ipython3",
   "version": "3.7.1"
  }
 },
 "nbformat": 4,
 "nbformat_minor": 2
}
