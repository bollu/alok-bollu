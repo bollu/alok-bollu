{
 "cells": [
  {
   "cell_type": "code",
   "execution_count": null,
   "metadata": {},
   "outputs": [],
   "source": [
    "'''The code here implements a riemmanian stochastic gradient descent on a Stiefel(orthogonal) Manifold.\n",
    "A brief overview of the maths will be provided. Comments will be there for important lines in the code.\n",
    "The book used for the theory is Optimization Algorithms on Matrix Manifolds by Absil.\n",
    "\n",
    "The SGD itself is a special case of a very generalised line-search method provided in the book called\n",
    "Accelerated Line Search(ALS). An ALS is based on the concept of Retraction to update the x at each step. \n",
    "The retraction formula - \n",
    "x[k+1] = R[x[k]](t[k].eta[k]) where eta[k] is in T[x[k]]M(a tangent vector space at x[k]) and t[k] is a scalar.\n",
    "\n",
    "So, the essential task is to choose a retraction for each x[k] followed by an appropriate step length, t[k] and \n",
    "a search direction, eta[k] at each iteration. However, since we are dealing with Steifel Manifolds alone, the\n",
    "retraction is very easy to define in this case. R[x[k]](Y) can be figured out using polar decomposition to be \n",
    "(X[k]+Y)(I+Y.tY)^-1/2 where Y=t[k].eta[k]\n",
    "\n",
    "Our algorithm ALS picks a eta[k] based on a gradient-related sequence and t[k] based on a special point called\n",
    "Armijo step size called t_A[k]. '''\n",
    "\n",
    "\n",
    "def ALS(R[x[k]],eta[k-1],t[k-1]):\n",
    "    pick eta[k] such that sequence is gradient-related\n",
    "    \n",
    "    select x[k+1] such that \n",
    "        f(x[k])-f(x[k+1]) >= c(f(x[k])-f(R[x[k]](t_A[k].eta[k])))\n",
    "        \n",
    "        \n"
   ]
  }
 ],
 "metadata": {
  "kernelspec": {
   "display_name": "Python 3",
   "language": "python",
   "name": "python3"
  },
  "language_info": {
   "codemirror_mode": {
    "name": "ipython",
    "version": 3
   },
   "file_extension": ".py",
   "mimetype": "text/x-python",
   "name": "python",
   "nbconvert_exporter": "python",
   "pygments_lexer": "ipython3",
   "version": "3.7.1"
  }
 },
 "nbformat": 4,
 "nbformat_minor": 2
}
