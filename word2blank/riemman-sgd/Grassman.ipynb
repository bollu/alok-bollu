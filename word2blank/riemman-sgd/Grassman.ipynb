{
 "cells": [
  {
   "cell_type": "code",
   "execution_count": 1,
   "metadata": {},
   "outputs": [],
   "source": [
    "import numpy as np\n",
    "import numpy.random\n",
    "import numpy.linalg\n",
    "from numpy.linalg import *\n",
    "from numpy import *"
   ]
  },
  {
   "cell_type": "code",
   "execution_count": 2,
   "metadata": {},
   "outputs": [
    {
     "ename": "SyntaxError",
     "evalue": "invalid syntax (<ipython-input-2-aa5399c5ae65>, line 22)",
     "output_type": "error",
     "traceback": [
      "\u001b[0;36m  File \u001b[0;32m\"<ipython-input-2-aa5399c5ae65>\"\u001b[0;36m, line \u001b[0;32m22\u001b[0m\n\u001b[0;31m    A = np.array([[1 + ( (i & j)  for j in range(dim)] for i in range(dim)])\u001b[0m\n\u001b[0m                                                     ^\u001b[0m\n\u001b[0;31mSyntaxError\u001b[0m\u001b[0;31m:\u001b[0m invalid syntax\n"
     ]
    }
   ],
   "source": [
    "dim = 4\n",
    "\n",
    "alpha, beta, sigma = [3, 0.2, 0.05] \n",
    "\n",
    "# g = metric\n",
    "def g(x, y): return np.trace(x.T @ y)\n",
    "\n",
    "\n",
    "def sym(x):\n",
    "    return 0.5 * (x + x.T)\n",
    "\n",
    "\n",
    "# P_x Z\n",
    "def project_tangent_space(x, z):\n",
    "    return z - x @ (sym(x.T @ z))\n",
    "\n",
    "\n",
    "def retraction(x, tau):\n",
    "    return qr(x + tau)[0]\n",
    "\n",
    "# A = symmetric\n",
    "A = np.array([[1 + ( (i & j)  for j in range(dim)] for i in range(dim)])\n",
    "\n",
    "# N = diagonal\n",
    "N = np.eye(dim)\n",
    "\n",
    "    \n",
    "def cost_function(x):\n",
    "    return np.trace(x.T @ A @ x @ N)\n",
    "\n",
    "def gradient(x):\n",
    "    return project_tangent_space(x, (A + A.T) @ x @ N)"
   ]
  },
  {
   "cell_type": "markdown",
   "metadata": {},
   "source": [
    "# Tangent space\n",
    "\n",
    "$$T_X(M) = \\{ Z \\mid X^T Z + Z^T X = 0 \\}$$\n"
   ]
  },
  {
   "cell_type": "code",
   "execution_count": 37,
   "metadata": {},
   "outputs": [],
   "source": [
    "def armijo_step(x_cur):\n",
    "    m = 0\n",
    "    while True:\n",
    "        # we choose eta as negative of gradient:\n",
    "        eta = -1.0 *  gradient(x_cur)\n",
    "        r = retraction(x_cur, alpha*(beta**m)*eta)\n",
    "        dot = g((-1.0 * sigma * gradient(x_cur)), ((beta **m) * alpha * eta))\n",
    "        if cost_function(x_cur) - cost_function(r) >= dot:\n",
    "            return alpha*(beta**m)\n",
    "        print(\"m: %s\" % m)\n",
    "        m += 1\n",
    "\n",
    "        \n",
    "def run_gradient_descent_armijo(x0):\n",
    "    x_cur = x0\n",
    "    XS = [x_cur]\n",
    "    YS = [cost_function(x_cur)]\n",
    "    ETAS = []\n",
    "    i = 0\n",
    "    while i <= 10000:\n",
    "        #eta_k is chosen as -grad f(x_k) which is gradient-related\n",
    "        eta_k = -1.0 * gradient(x_cur)\n",
    "        ETAS.append(eta_k)\n",
    "        # if np.linalg.norm(eta_k) < 1e-4: break\n",
    "        \n",
    "        t_k = 1e-1\n",
    "        # t_k = armijo_step(x_cur)\n",
    "        x_cur = retraction(x_cur, t_k*eta_k)\n",
    "        XS.append(x_cur)\n",
    "        YS.append(cost_function(x_cur))\n",
    "        i += 1\n",
    "    return (np.array(XS), np.array(YS), np.array(ETAS))"
   ]
  },
  {
   "cell_type": "code",
   "execution_count": 38,
   "metadata": {
    "scrolled": true
   },
   "outputs": [
    {
     "name": "stdout",
     "output_type": "stream",
     "text": [
      "xs: \n",
      "[[-0.41701418 -0.30427949  0.57378218  0.63583581]\n",
      " [-0.32191274 -0.3643801   0.42122447 -0.76561693]\n",
      " [-0.73223605  0.66994742 -0.10234467 -0.06727839]\n",
      " [-0.43162684 -0.57079908 -0.69488814  0.07083191]]\n",
      "A diagonalized (roughly):\n",
      "[[ 3.31977485  0.86572068  1.99531204  0.79098995]\n",
      " [-0.9868222  -0.28137205 -0.58728662 -0.25188892]\n",
      " [-1.09751154 -0.37764573 -0.63745819 -0.32528142]\n",
      " [ 1.51032138 -0.69686344  1.17242944 -0.4009446 ]]\n",
      "A original: \n",
      "[[0 1 0 1]\n",
      " [0 0 2 2]\n",
      " [0 1 2 3]\n",
      " [0 0 0 0]]\n"
     ]
    }
   ],
   "source": [
    "np.random.seed(0)\n",
    "\n",
    "def random_ortho():\n",
    "    return qr(np.random.rand(dim, dim))[0]\n",
    "\n",
    "begin = random_ortho()\n",
    "\n",
    "(xs, ys, etas) = run_gradient_descent_armijo(begin)\n",
    "print(\"xs: \")\n",
    "print(xs[-1])\n",
    "print(\"A diagonalized (roughly):\")\n",
    "print(xs[-1].T @ A @ xs[-1])\n",
    "print(\"A original: \")\n",
    "print(A)"
   ]
  },
  {
   "cell_type": "code",
   "execution_count": 26,
   "metadata": {},
   "outputs": [
    {
     "ename": "AttributeError",
     "evalue": "module 'torch' has no attribute 'ndarray'",
     "output_type": "error",
     "traceback": [
      "\u001b[0;31m---------------------------------------------------------------------------\u001b[0m",
      "\u001b[0;31mAttributeError\u001b[0m                            Traceback (most recent call last)",
      "\u001b[0;32m<ipython-input-26-22ccc54f25f2>\u001b[0m in \u001b[0;36m<module>\u001b[0;34m\u001b[0m\n\u001b[1;32m      1\u001b[0m \u001b[0;32mimport\u001b[0m \u001b[0mtorch\u001b[0m\u001b[0;34m\u001b[0m\u001b[0m\n\u001b[0;32m----> 2\u001b[0;31m \u001b[0mX\u001b[0m \u001b[0;34m=\u001b[0m \u001b[0mtorch\u001b[0m\u001b[0;34m.\u001b[0m\u001b[0mndarray\u001b[0m\u001b[0;34m\u001b[0m\u001b[0m\n\u001b[0m",
      "\u001b[0;31mAttributeError\u001b[0m: module 'torch' has no attribute 'ndarray'"
     ]
    }
   ],
   "source": [
    "import torch\n",
    "X = torch.ndarray"
   ]
  },
  {
   "cell_type": "code",
   "execution_count": null,
   "metadata": {},
   "outputs": [],
   "source": []
  }
 ],
 "metadata": {
  "kernelspec": {
   "display_name": "Python 3",
   "language": "python",
   "name": "python3"
  },
  "language_info": {
   "codemirror_mode": {
    "name": "ipython",
    "version": 3
   },
   "file_extension": ".py",
   "mimetype": "text/x-python",
   "name": "python",
   "nbconvert_exporter": "python",
   "pygments_lexer": "ipython3",
   "version": "3.5.2"
  }
 },
 "nbformat": 4,
 "nbformat_minor": 2
}
