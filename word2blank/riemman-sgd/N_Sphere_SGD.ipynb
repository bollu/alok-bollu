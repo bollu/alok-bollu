{
 "cells": [
  {
   "cell_type": "code",
   "execution_count": 65,
   "metadata": {},
   "outputs": [
    {
     "data": {
      "image/png": "[encoded data removed]",
      "text/plain": [
       "<Figure size 432x288 with 1 Axes>"
      ]
     },
     "metadata": {
      "needs_background": "light"
     },
     "output_type": "display_data"
    }
   ],
   "source": [
    "import numpy as np\n",
    "from pylab import meshgrid,cm,imshow,contour,clabel,colorbar,axis,title,show\n",
    "import matplotlib.pyplot as plt\n",
    "\n",
    "#Our cost function requires a symmetric nxn matrix A. One such A is initialised(random infact). \n",
    "# (cos theta, sin theta)^T A (cos theta, sin theta) === (cos^2 theta - sin^2 theta)\n",
    "# minimum at theta = pi / 2\n",
    "# (1, 1)\n",
    "A = np.array([[1, 0], [0, -1]], dtype=np.float)\n",
    "\n",
    "\n",
    "# This is essentially Rayleigh quotient minimization , x->x.TAx where A=symmetric 4x4 matrix\n",
    "def field(x):\n",
    "    return x.T @ A @ x# np.matmul(np.transpose(x), np.matmul(A,x))\n",
    "\n",
    "def field_2d(x, y):\n",
    "    return field(np.array([x, y]))\n",
    "\n",
    "def plot_field():\n",
    "    NPOINTS = 100\n",
    "    PRECISION = 4\n",
    "    P = np.zeros((NPOINTS, 2))\n",
    "    Z = np.zeros(NPOINTS)\n",
    "    for i in range(NPOINTS):\n",
    "        P[i][0] = np.round(np.cos(i * (2 * np.pi / NPOINTS)), PRECISION)\n",
    "        P[i][1] = np.round(np.sin(i * (2 * np.pi / NPOINTS)), PRECISION)\n",
    "        Z[i] = field_2d(P[i][0], P[i][1])\n",
    "    plt.scatter(P[:, 0], P[:, 1], c=Z, cmap='gray')\n",
    "    \n",
    "plot_field()"
   ]
  },
  {
   "cell_type": "markdown",
   "metadata": {},
   "source": [
    "We can now see the function we are interested in optimising. The optima lies at $(\\pm 1, 0)$."
   ]
  },
  {
   "cell_type": "markdown",
   "metadata": {},
   "source": [
    "`x_cur` is a random initial value to start the line search algorithm on the manifold $S^1$ which is realised as a submanifold of $\\mathbb R^2$.\n",
    "\n",
    "That is, we are optimising over a circle that is embedded in 2D using $\\theta \\mapsto (\\cos \\theta, \\sin \\theta)$."
   ]
  },
  {
   "cell_type": "markdown",
   "metadata": {},
   "source": [
    "Our step size calculation would be based on a concept called Armijo point. \n",
    "Armijo point requires the selection of scalars $\\alpha > 0$, and\n",
    "$\\beta, \\sigma \\in (0, 1)$. These have also been randomly intialised for now. \n",
    "They will be tweaked later for better convergence."
   ]
  },
  {
   "cell_type": "code",
   "execution_count": 66,
   "metadata": {},
   "outputs": [],
   "source": [
    "alpha, beta, sigma = [3, 0.2, 0.05] "
   ]
  },
  {
   "cell_type": "markdown",
   "metadata": {},
   "source": [
    "The retraction which is a function that maps the manifold to itself. \n",
    "The retraction we have used takes two vectors $\\vec x$, $\\vec \\tau$ as arguments and returns \n",
    "$\\frac{x + \\tau}{|x + \\tau|}$. That is, the direction of the vector $x + \\tau$."
   ]
  },
  {
   "cell_type": "code",
   "execution_count": 67,
   "metadata": {},
   "outputs": [],
   "source": [
    "def retraction(x_cur, tau):\n",
    "    z = x_cur + tau\n",
    "    absval = np.linalg.norm(z, 2)\n",
    "    return np.divide(z, absval)"
   ]
  },
  {
   "cell_type": "markdown",
   "metadata": {},
   "source": [
    "We are trying to optimise $F(x) = x^T A x : \\mathbb R^2 \\rightarrow \\mathbb R$.\n",
    "\n",
    "At the point $p$ on the manifold $S^1$, we have a tangent space $T_p S^1$. This $T_p S^1$ can be identified with $\\mathbb R^2$ using the embedding. \n",
    "\n",
    "We now create a space of normal vectors\n",
    "$T_p \\overline{S^1} \\equiv \\left\\{ \\xi \\in \\mathbb R^2 \\mid \\xi^T x = 0 ~ \\forall x \\in T_p S^1 \\right\\}$.  \n",
    "\n",
    "\n",
    "Now, given any vector $\\alpha \\in \\mathbb R^2$, we can consider how this vector $\\alpha$ can be split into a component along $T_p S^1$ and a component along $T_p \\overline {S^1}$. These components are given by the projction operators $P_x: \\mathbb R^2 \\rightarrow T_x S^1$ and $P_x^\\bot : \\mathbb R^2 \\rightarrow T_x \\bar{S^1}$.\n",
    "\n",
    "Things to notice:\n",
    "\n",
    "- The dimension of our space $T_x M$ is $1$ since we are on a circle\n",
    "- The dimension of $T_x \\overline{M}$ is also $1$ since it is the directions _perpendicular_ to the circle in $\\mathbb R^2$.\n",
    "- At each point $\\vec p \\in S^1 \\subset \\mathbb R^2$, for the space $T_x \\overline{M}$ the vector $\\vec p$ forms an _orthonormal basis_ for $T_x \\overline{M}$. This is because for any point on the sphere, $|\\vec p| = 1$ and is therefore normalized. Since the dimension of the space $T_x \\overline M$ is $1$, $\\vec p$  is a basis. From these two conditions, it is orthonormal.\n",
    "\n",
    "- We will consider the function $f: S^1 \\rightarrow \\mathbb R$ as a function  $\\overline f: \\mathbb R^2 \\rightarrow \\mathbb R$. Then, we only consider the gradient which is _along our tangent space_. The way in which we compute this is by using the fact that:\n",
    "\n",
    "\\begin{align*}\n",
    " D_x \\overline{f} [ \\zeta ] = \\zeta^T A x + x^T A \\zeta = 2 \\zeta^T A x\n",
    "\\end{align*}\n",
    "\n",
    "where $D_x \\overline{f}$ stands for the gradient of the function at $x$ _with respect to the ambient space_ $\\mathbb R^2$.\n",
    "\n",
    "We now need to \"lower\" the gradient evaluated from the ambient space $\\mathbb R^2$ down into the circle $S^1$.\n",
    "\n",
    "The way we will do this is to write the gradient as a combination of the components along $T_x M$ and components along $T_x \\overline{M}$. These two spaces together span $\\mathbb R^2$. That is, $T_x \\mathbb R^2 = T_x S^1 \\oplus T_x \\overline{S^1}$.\n",
    "\n",
    "Hence, the tangent vector $\\vec p \\in \\mathbb T_x R^2$ along $T_x \\overline S^1$ is $ x x^T p$.\n",
    "So, the vector along $T_x S^1 = (I - xx^T)p$.\n",
    "\n",
    "Taking the gradient $D_x \\overline{f}$ along the vector space $T_x$ gives us:\n",
    "\\begin{align*}\n",
    "(\\text{projection on $T_x M$}) (\\text{gradient of $f$ at $x$}) = \n",
    "(I - xx^T) (2 A x) = 2 (A x - x x^T A x)\n",
    "\\end{align*}"
   ]
  },
  {
   "cell_type": "code",
   "execution_count": 90,
   "metadata": {},
   "outputs": [
    {
     "name": "stdout",
     "output_type": "stream",
     "text": [
      "gradient at theta = 0.0: [0. 0.] \n",
      "gradient at theta = 90.0: [2.4492936e-16 0.0000000e+00] \n",
      "gradient at theta = 45.0: [ 1.41421356 -1.41421356] \n"
     ]
    },
    {
     "data": {
      "image/png": "[encoded data removed]",
      "text/plain": [
       "<Figure size 432x288 with 1 Axes>"
      ]
     },
     "metadata": {
      "needs_background": "light"
     },
     "output_type": "display_data"
    }
   ],
   "source": [
    "#Gradient is calculated as 2*(Ax_k − x_k x_k.T A x_k) .\n",
    "def gradient(x_cur):\n",
    "    return 2* (A @ x_cur - x_cur * field(x_cur))\n",
    "\n",
    "def dbg_gradient_at_theta(theta_rad):\n",
    "    v = np.array([np.cos(theta_rad), np.sin(theta_rad)], dtype=np.float)\n",
    "    print(\"gradient at theta = %s: %s \" % (theta_rad * 180 / np.pi, gradient(v)))\n",
    "    \n",
    "\n",
    "def dbg_plot_gradients():\n",
    "    NPOINTS = 20\n",
    "    PRECISION = 4\n",
    "    P = np.zeros((NPOINTS, 2))\n",
    "    TV = np.zeros((NPOINTS, 2))\n",
    "    for i in range(NPOINTS):\n",
    "        P[i][0] = np.round(np.cos(i * (2 * np.pi / NPOINTS)), PRECISION)\n",
    "        P[i][1] = np.round(np.sin(i * (2 * np.pi / NPOINTS)), PRECISION)\n",
    "        TV[i] = gradient(P[i])\n",
    "    plt.quiver(P[:, 0], P[:, 1], TV[:, 0], TV[:, 1])\n",
    "\n",
    "    \n",
    "# gradient is 0 since this is a maxima\n",
    "dbg_gradient_at_theta(0.0)\n",
    "# gradient is 0 since this is a minima\n",
    "dbg_gradient_at_theta(np.pi/ 2)\n",
    "dbg_gradient_at_theta(np.pi/4)\n",
    "dbg_plot_gradients()"
   ]
  },
  {
   "cell_type": "markdown",
   "metadata": {},
   "source": []
  },
  {
   "cell_type": "code",
   "execution_count": 142,
   "metadata": {},
   "outputs": [
    {
     "name": "stdout",
     "output_type": "stream",
     "text": [
      "final xs:\n",
      "[[ 0.5         0.5       ]\n",
      " [-0.58123819  0.81373347]\n",
      " [ 0.22637603  0.97403999]\n",
      " [ 0.1225992   0.99245626]\n",
      " [ 0.06452614  0.99791602]\n",
      " [ 0.03366647  0.99943312]\n",
      " [ 0.0175226   0.99984647]\n",
      " [ 0.00911401  0.99995847]]\n"
     ]
    },
    {
     "data": {
      "image/png": "[encoded data removed]",
      "text/plain": [
       "<Figure size 432x288 with 1 Axes>"
      ]
     },
     "metadata": {
      "needs_background": "light"
     },
     "output_type": "display_data"
    }
   ],
   "source": [
    "'''Find the smallest integer m ≥ 0 such that\n",
    "f (Rx_k (aplha.beta^m eta_k )) ≤ f(x_k) − sigma.alpha.beta^m eta_k.T eta_k'''\n",
    "# Definition 4.2.2 (Armijo point) from Optimisation on matrix manifolds\n",
    "def armijo_step(x_cur):\n",
    "    m = 0\n",
    "    while True:\n",
    "        # we choose eta as negative of gradient:\n",
    "        eta = -1.0 *  gradient(x_cur)\n",
    "        r = retraction(x_cur, alpha*(beta**m)*eta)\n",
    "        dot = (-1.0 * sigma * gradient(x_cur)) @ ((beta **m) * alpha * eta)\n",
    "        if field(x_cur) - field(r) >= dot:\n",
    "            return alpha*(beta**m)\n",
    "        m += 1\n",
    "        \n",
    "\n",
    "#The updation happens in this loop for 10000 iterations\n",
    "# returns list of x_cur and eta_ks\n",
    "def run_gradient_descent():\n",
    "    x_cur = np.array((0.5, 0.5), dtype=float)\n",
    "    XS = [x_cur]\n",
    "    ETAS = []\n",
    "    i = 0\n",
    "    while i <= 1000:\n",
    "        #eta_k is chosen as -grad f(x_k) which is gradient-related\n",
    "        eta_k = -1.0 * gradient(x_cur)\n",
    "        ETAS.append(eta_k)\n",
    "        if np.linalg.norm(eta_k) < 1e-4: break\n",
    "        \n",
    "        t_k = armijo_step(x_cur)\n",
    "        x_cur = retraction(x_cur, t_k*eta_k)\n",
    "        XS.append(x_cur)\n",
    "        i += 1\n",
    "    return (np.array(XS), np.array(ETAS))\n",
    "\n",
    "def dbg_plot_gradient_descent(xs, etas):\n",
    "    nvecs = xs.shape[0]\n",
    "    lens = np.linalg.norm(etas, axis=1)\n",
    "    for i in range(lens.shape[0]):\n",
    "        etas[i] =  etas[i] / lens[i]\n",
    "\n",
    "    plt.quiver(xs[:nvecs, 0], xs[:nvecs, 1], etas[:nvecs, 0], etas[:nvecs, 1], lens)\n",
    "    plt.scatter(xs[:, 0], xs[:, 1], c=np.arange(nvecs), cmap='winter')\n",
    "\n",
    "xs, etas = run_gradient_descent()\n",
    "print(\"final xs:\")\n",
    "print(xs[:-10])\n",
    "dbg_plot_gradient_descent(xs, etas)"
   ]
  },
  {
   "cell_type": "code",
   "execution_count": null,
   "metadata": {},
   "outputs": [],
   "source": []
  },
  {
   "cell_type": "code",
   "execution_count": null,
   "metadata": {},
   "outputs": [],
   "source": []
  }
 ],
 "metadata": {
  "kernelspec": {
   "display_name": "Python 3",
   "language": "python",
   "name": "python3"
  },
  "language_info": {
   "codemirror_mode": {
    "name": "ipython",
    "version": 3
   },
   "file_extension": ".py",
   "mimetype": "text/x-python",
   "name": "python",
   "nbconvert_exporter": "python",
   "pygments_lexer": "ipython3",
   "version": "3.6.8"
  }
 },
 "nbformat": 4,
 "nbformat_minor": 2
}
