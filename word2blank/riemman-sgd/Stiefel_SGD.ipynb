{
 "cells": [
  {
   "cell_type": "code",
   "execution_count": 33,
   "metadata": {},
   "outputs": [],
   "source": [
    "import numpy as np\n",
    "import numpy.random\n",
    "import numpy.linalg\n",
    "from numpy.linalg import *\n",
    "from numpy import *"
   ]
  },
  {
   "cell_type": "code",
   "execution_count": 88,
   "metadata": {},
   "outputs": [],
   "source": [
    "alpha, beta, sigma = [3, 0.2, 0.05] \n",
    "\n",
    "# g = metric\n",
    "def g(x, y): return np.trace(x.T @ y)\n",
    "\n",
    "\n",
    "def sym(x):\n",
    "    return 0.5 * (x + x.T)\n",
    "\n",
    "# P_x Z\n",
    "def project_tangent_space(x, z):\n",
    "    return z - x @ (sym(x.T @ z))\n",
    "\n",
    "\n",
    "def retraction(x, tau):\n",
    "    return qr(x + tau)[0]\n",
    "\n",
    "# A = symmetric\n",
    "A = np.array([[1, 2], [2, 1]])\n",
    "\n",
    "# N = diagonal\n",
    "N = np.diag([1, 2])\n",
    "\n",
    "    \n",
    "def cost_function(x):\n",
    "    return np.trace(x.T @ A @ x @ N)\n",
    "def gradient(x):\n",
    "    return project_tangent_space(x, 2 * A @ x @ N)"
   ]
  },
  {
   "cell_type": "markdown",
   "metadata": {},
   "source": [
    "# Tangent space\n",
    "\n",
    "$$T_X(M) = \\{ Z \\mid X^T Z + Z^T X = 0 \\}$$\n"
   ]
  },
  {
   "cell_type": "code",
   "execution_count": 127,
   "metadata": {},
   "outputs": [],
   "source": [
    "def armijo_step(x_cur):\n",
    "    m = 0\n",
    "    while True:\n",
    "        # we choose eta as negative of gradient:\n",
    "        eta = -1.0 *  gradient(x_cur)\n",
    "        r = retraction(x_cur, alpha*(beta**m)*eta)\n",
    "        dot = g((-1.0 * sigma * gradient(x_cur)), ((beta **m) * alpha * eta))\n",
    "        if cost_function(x_cur) - cost_function(r) >= dot:\n",
    "            return alpha*(beta**m)\n",
    "        print(\"m: %s\" % m)\n",
    "        m += 1\n",
    "\n",
    "        \n",
    "def run_gradient_descent_armijo(x0):\n",
    "    x_cur = x0\n",
    "    XS = [x_cur]\n",
    "    YS = [cost_function(x_cur)]\n",
    "    ETAS = []\n",
    "    i = 0\n",
    "    while i <= 10000:\n",
    "        #eta_k is chosen as -grad f(x_k) which is gradient-related\n",
    "        eta_k = -1.0 * gradient(x_cur)\n",
    "        ETAS.append(eta_k)\n",
    "        # if np.linalg.norm(eta_k) < 1e-4: break\n",
    "        \n",
    "        t_k = 1e-3\n",
    "        # t_k = armijo_step(x_cur)\n",
    "        x_cur = retraction(x_cur, t_k*eta_k)\n",
    "        XS.append(x_cur)\n",
    "        YS.append(cost_function(x_cur))\n",
    "        i += 1\n",
    "    return (np.array(XS), np.array(YS), np.array(ETAS))"
   ]
  },
  {
   "cell_type": "code",
   "execution_count": 129,
   "metadata": {
    "scrolled": true
   },
   "outputs": [
    {
     "name": "stdout",
     "output_type": "stream",
     "text": [
      "[[-0.67324134 -0.73942281]\n",
      " [-0.73942281  0.67324134]]\n",
      "[[ 1.00000000e+00 -9.44129754e-17]\n",
      " [-9.44129754e-17  1.00000000e+00]]\n",
      "ys: \n",
      "[1.00875997 1.00869019 1.00862095 ... 1.         1.         1.        ]\n",
      "xs: \n",
      "[[-0.70710678 -0.70710678]\n",
      " [-0.70710678  0.70710678]]\n",
      "A diagonalized (roughly):\n",
      "[[ 3.00000000e+00  2.06514760e-13]\n",
      " [ 2.06284647e-13 -1.00000000e+00]]\n"
     ]
    }
   ],
   "source": [
    "np.random.seed(0)\n",
    "begin = retraction(begin, np.zeros(2))\n",
    "print(begin)\n",
    "print(begin.T @ begin)\n",
    "\n",
    "(xs, ys, etas) = run_gradient_descent_armijo(begin)\n",
    "print(\"ys: \")\n",
    "print(ys)\n",
    "print(\"xs: \")\n",
    "print(xs[-1])\n",
    "print(\"A diagonalized (roughly):\")\n",
    "print(xs[-1].T @ A @ xs[-1])"
   ]
  },
  {
   "cell_type": "code",
   "execution_count": 80,
   "metadata": {},
   "outputs": [],
   "source": [
    "def random_ortho():\n",
    "    return qr(np.random.rand(2, 2))[0]\n"
   ]
  },
  {
   "cell_type": "code",
   "execution_count": null,
   "metadata": {},
   "outputs": [],
   "source": []
  }
 ],
 "metadata": {
  "kernelspec": {
   "display_name": "Python 3",
   "language": "python",
   "name": "python3"
  },
  "language_info": {
   "codemirror_mode": {
    "name": "ipython",
    "version": 3
   },
   "file_extension": ".py",
   "mimetype": "text/x-python",
   "name": "python",
   "nbconvert_exporter": "python",
   "pygments_lexer": "ipython3",
   "version": "3.5.2"
  }
 },
 "nbformat": 4,
 "nbformat_minor": 2
}
