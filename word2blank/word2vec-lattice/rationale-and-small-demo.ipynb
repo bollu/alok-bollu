{
 "cells": [
  {
   "cell_type": "markdown",
   "metadata": {},
   "source": [
    "If the computer scientists are right, all meaning is a lattice. For us, we need two operations:\n",
    "\n",
    "- a dot-product to be able to assign similarity during training\n",
    "- an 'analogy' to be able to transfer one set of distances to another.\n",
    "\n",
    "Consider the boolean hypercube $B^n \\equiv Z_2^n$. This has the operations:\n",
    "- hamming distance, which creates a metric for similarlity among vectors\n",
    "- analogy: $c + (b - a) \\equiv c \\lor (b \\Delta a)$, where $\\Delta(a, b) = (a \\land \\lnot b) | (b \\land \\lnot a)$\n",
    "\n",
    "So, we can take the vocabulary, and try to \"learn\" boolean vectors. boolean vectors are awesome because they take $1$ bit instead of $32$ bits, and their operations take $1$ clock cycle instead of $4$.\n",
    "\n",
    "We can also take a corpus, create the boolean vectors, and then take \"binary SVD\" -- [FastStep: scalable boolean matrix decomposition](https://db.cs.cmu.edu/papers/2016/maraujo-faststep-pakdd16.pdf) as a quick evaluation of this method."
   ]
  },
  {
   "cell_type": "code",
   "execution_count": null,
   "metadata": {},
   "outputs": [],
   "source": []
  },
  {
   "cell_type": "code",
   "execution_count": null,
   "metadata": {},
   "outputs": [],
   "source": []
  }
 ],
 "metadata": {
  "kernelspec": {
   "display_name": "Python 3",
   "language": "python",
   "name": "python3"
  },
  "language_info": {
   "codemirror_mode": {
    "name": "ipython",
    "version": 3
   },
   "file_extension": ".py",
   "mimetype": "text/x-python",
   "name": "python",
   "nbconvert_exporter": "python",
   "pygments_lexer": "ipython3",
   "version": "3.5.2"
  }
 },
 "nbformat": 4,
 "nbformat_minor": 2
}
